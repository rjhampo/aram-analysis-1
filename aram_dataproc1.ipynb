{
 "cells": [
  {
   "cell_type": "code",
   "execution_count": 1,
   "id": "87b90a64",
   "metadata": {},
   "outputs": [],
   "source": [
    "import jsonlines\n",
    "import ijson"
   ]
  },
  {
   "cell_type": "code",
   "execution_count": 2,
   "id": "6f35401b",
   "metadata": {},
   "outputs": [
    {
     "name": "stdout",
     "output_type": "stream",
     "text": [
      "296\n"
     ]
    }
   ],
   "source": [
    "count = 0\n",
    "with jsonlines.open('test3.ndjson', mode='r') as file:\n",
    "    for line in file:\n",
    "        count += 1\n",
    "print(count)"
   ]
  },
  {
   "cell_type": "code",
   "execution_count": 3,
   "id": "f08da728",
   "metadata": {},
   "outputs": [
    {
     "name": "stdout",
     "output_type": "stream",
     "text": [
      "215\n"
     ]
    }
   ],
   "source": [
    "count = 0\n",
    "with jsonlines.open('test4.jsonl', mode='r') as file:\n",
    "    for line in file:\n",
    "        if 'metadata' in line:\n",
    "            count += 1\n",
    "print(count)"
   ]
  },
  {
   "cell_type": "code",
   "execution_count": 2,
   "id": "678c964c",
   "metadata": {},
   "outputs": [],
   "source": [
    "test1 = None\n",
    "with jsonlines.open('test3.ndjson', mode='r') as file:\n",
    "    file.read()\n",
    "    test1 = file.read()"
   ]
  },
  {
   "cell_type": "code",
   "execution_count": 4,
   "id": "fddb96d2",
   "metadata": {},
   "outputs": [],
   "source": [
    "with jsonlines.open('test4.ndjson', mode='w') as file:\n",
    "    file.write(test1)"
   ]
  },
  {
   "cell_type": "code",
   "execution_count": null,
   "id": "3945c9b1",
   "metadata": {},
   "outputs": [],
   "source": [
    "with jsonlines.open('test4.ndjson')"
   ]
  }
 ],
 "metadata": {
  "kernelspec": {
   "display_name": "Python [conda env:loldata]",
   "language": "python",
   "name": "conda-env-loldata-py"
  },
  "language_info": {
   "codemirror_mode": {
    "name": "ipython",
    "version": 3
   },
   "file_extension": ".py",
   "mimetype": "text/x-python",
   "name": "python",
   "nbconvert_exporter": "python",
   "pygments_lexer": "ipython3",
   "version": "3.11.4"
  }
 },
 "nbformat": 4,
 "nbformat_minor": 5
}
